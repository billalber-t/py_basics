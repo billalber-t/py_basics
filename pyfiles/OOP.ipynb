{
 "cells": [
  {
   "cell_type": "code",
   "execution_count": 1,
   "id": "e609949b",
   "metadata": {},
   "outputs": [],
   "source": [
    "#OOP\n",
    "class sample():\n",
    "    pass"
   ]
  },
  {
   "cell_type": "code",
   "execution_count": 2,
   "id": "d8bb541a",
   "metadata": {},
   "outputs": [],
   "source": [
    "mysample = sample()"
   ]
  },
  {
   "cell_type": "code",
   "execution_count": 4,
   "id": "f518cbf1",
   "metadata": {},
   "outputs": [
    {
     "data": {
      "text/plain": [
       "__main__.sample"
      ]
     },
     "execution_count": 4,
     "metadata": {},
     "output_type": "execute_result"
    }
   ],
   "source": [
    "type(mysample)"
   ]
  },
  {
   "cell_type": "code",
   "execution_count": 5,
   "id": "2a4e2d5b",
   "metadata": {},
   "outputs": [
    {
     "data": {
      "text/plain": [
       "<__main__.sample at 0x14e3f5f4370>"
      ]
     },
     "execution_count": 5,
     "metadata": {},
     "output_type": "execute_result"
    }
   ],
   "source": [
    "mysample"
   ]
  },
  {
   "cell_type": "code",
   "execution_count": 6,
   "id": "c16301ec",
   "metadata": {},
   "outputs": [],
   "source": [
    "mylist = []\n"
   ]
  },
  {
   "cell_type": "code",
   "execution_count": 7,
   "id": "9839bc6e",
   "metadata": {},
   "outputs": [
    {
     "data": {
      "text/plain": [
       "list"
      ]
     },
     "execution_count": 7,
     "metadata": {},
     "output_type": "execute_result"
    }
   ],
   "source": [
    "type(mylist)"
   ]
  },
  {
   "cell_type": "code",
   "execution_count": 8,
   "id": "28827566",
   "metadata": {},
   "outputs": [],
   "source": [
    "mytuple = ('a','b','c')"
   ]
  },
  {
   "cell_type": "code",
   "execution_count": 9,
   "id": "b19a3ee7",
   "metadata": {},
   "outputs": [
    {
     "data": {
      "text/plain": [
       "tuple"
      ]
     },
     "execution_count": 9,
     "metadata": {},
     "output_type": "execute_result"
    }
   ],
   "source": [
    "type(mytuple)"
   ]
  },
  {
   "cell_type": "code",
   "execution_count": 11,
   "id": "f103e0d2",
   "metadata": {},
   "outputs": [],
   "source": [
    "class Dog():\n",
    "    def __init__(self,breed):\n",
    "        self.breed = breed"
   ]
  },
  {
   "cell_type": "code",
   "execution_count": 12,
   "id": "f8124d5a",
   "metadata": {},
   "outputs": [
    {
     "ename": "TypeError",
     "evalue": "__init__() missing 1 required positional argument: 'breed'",
     "output_type": "error",
     "traceback": [
      "\u001b[1;31m---------------------------------------------------------------------------\u001b[0m",
      "\u001b[1;31mTypeError\u001b[0m                                 Traceback (most recent call last)",
      "\u001b[1;32m<ipython-input-12-b867e62b00ec>\u001b[0m in \u001b[0;36m<module>\u001b[1;34m\u001b[0m\n\u001b[1;32m----> 1\u001b[1;33m \u001b[0mmy_dog\u001b[0m \u001b[1;33m=\u001b[0m \u001b[0mDog\u001b[0m\u001b[1;33m(\u001b[0m\u001b[1;33m)\u001b[0m\u001b[1;33m\u001b[0m\u001b[1;33m\u001b[0m\u001b[0m\n\u001b[0m",
      "\u001b[1;31mTypeError\u001b[0m: __init__() missing 1 required positional argument: 'breed'"
     ]
    }
   ],
   "source": [
    "my_dog = Dog()"
   ]
  },
  {
   "cell_type": "code",
   "execution_count": 13,
   "id": "66d30571",
   "metadata": {},
   "outputs": [],
   "source": [
    "my_dog = Dog(breed = 'Lab')"
   ]
  },
  {
   "cell_type": "code",
   "execution_count": 14,
   "id": "a52bcaca",
   "metadata": {},
   "outputs": [
    {
     "data": {
      "text/plain": [
       "__main__.Dog"
      ]
     },
     "execution_count": 14,
     "metadata": {},
     "output_type": "execute_result"
    }
   ],
   "source": [
    "type(my_dog)"
   ]
  },
  {
   "cell_type": "code",
   "execution_count": 15,
   "id": "6f92af30",
   "metadata": {},
   "outputs": [
    {
     "data": {
      "text/plain": [
       "'Lab'"
      ]
     },
     "execution_count": 15,
     "metadata": {},
     "output_type": "execute_result"
    }
   ],
   "source": [
    "my_dog.breed"
   ]
  },
  {
   "cell_type": "code",
   "execution_count": 16,
   "id": "b5ee3a6c",
   "metadata": {},
   "outputs": [],
   "source": [
    "class Dog():\n",
    "    def __init__(self,breed):\n",
    "        self.breed = breed\n",
    "        "
   ]
  },
  {
   "cell_type": "code",
   "execution_count": 17,
   "id": "ce6ab15f",
   "metadata": {},
   "outputs": [],
   "source": [
    "my_dog = Dog('Bull Dog')"
   ]
  },
  {
   "cell_type": "code",
   "execution_count": 18,
   "id": "6d83c1ad",
   "metadata": {},
   "outputs": [
    {
     "data": {
      "text/plain": [
       "__main__.Dog"
      ]
     },
     "execution_count": 18,
     "metadata": {},
     "output_type": "execute_result"
    }
   ],
   "source": [
    "type(my_dog)"
   ]
  },
  {
   "cell_type": "code",
   "execution_count": 19,
   "id": "6429fea1",
   "metadata": {},
   "outputs": [
    {
     "data": {
      "text/plain": [
       "'Bull Dog'"
      ]
     },
     "execution_count": 19,
     "metadata": {},
     "output_type": "execute_result"
    }
   ],
   "source": [
    "my_dog.breed"
   ]
  },
  {
   "cell_type": "code",
   "execution_count": 27,
   "id": "50f57bb5",
   "metadata": {},
   "outputs": [],
   "source": [
    "class Dog():\n",
    "    def __init__(self,my_breed):\n",
    "        #Attributes\n",
    "        #Me take in the arguement\n",
    "        #Assign it using self.attribute_name\n",
    "        \n",
    "        self.myattribute = my_breed"
   ]
  },
  {
   "cell_type": "code",
   "execution_count": 28,
   "id": "26628b07",
   "metadata": {},
   "outputs": [
    {
     "data": {
      "text/plain": [
       "__main__.Dog"
      ]
     },
     "execution_count": 28,
     "metadata": {},
     "output_type": "execute_result"
    }
   ],
   "source": [
    "my_dog = Dog(my_breed = 'Huskie')\n",
    "type(my_dog)"
   ]
  },
  {
   "cell_type": "code",
   "execution_count": 29,
   "id": "13198169",
   "metadata": {},
   "outputs": [
    {
     "data": {
      "text/plain": [
       "'Huskie'"
      ]
     },
     "execution_count": 29,
     "metadata": {},
     "output_type": "execute_result"
    }
   ],
   "source": [
    "my_dog.myattribute"
   ]
  },
  {
   "cell_type": "code",
   "execution_count": 40,
   "id": "ceeba2d1",
   "metadata": {},
   "outputs": [],
   "source": [
    "class Cat():\n",
    "    def  __init__(self,mybreed):\n",
    "        self.mybreed = mybreed"
   ]
  },
  {
   "cell_type": "code",
   "execution_count": 41,
   "id": "72efb8a2",
   "metadata": {},
   "outputs": [],
   "source": [
    "my_cat = Cat(mybreed = 'Black African')"
   ]
  },
  {
   "cell_type": "code",
   "execution_count": 42,
   "id": "352a1ea9",
   "metadata": {},
   "outputs": [
    {
     "data": {
      "text/plain": [
       "__main__.Cat"
      ]
     },
     "execution_count": 42,
     "metadata": {},
     "output_type": "execute_result"
    }
   ],
   "source": [
    "type(my_cat)"
   ]
  },
  {
   "cell_type": "code",
   "execution_count": 43,
   "id": "1b1fb2dc",
   "metadata": {},
   "outputs": [
    {
     "data": {
      "text/plain": [
       "'Black African'"
      ]
     },
     "execution_count": 43,
     "metadata": {},
     "output_type": "execute_result"
    }
   ],
   "source": [
    "my_cat.mybreed"
   ]
  },
  {
   "cell_type": "code",
   "execution_count": 45,
   "id": "c0f4f155",
   "metadata": {},
   "outputs": [],
   "source": [
    "class Cat():\n",
    "    def __init__(self,mybreed):\n",
    "        self.mybreed = mybreed"
   ]
  },
  {
   "cell_type": "code",
   "execution_count": 46,
   "id": "670347e5",
   "metadata": {},
   "outputs": [],
   "source": [
    "my_cat = Cat(mybreed = 'Asian White Cat')"
   ]
  },
  {
   "cell_type": "code",
   "execution_count": 47,
   "id": "cef12b9a",
   "metadata": {},
   "outputs": [
    {
     "data": {
      "text/plain": [
       "'Asian White Cat'"
      ]
     },
     "execution_count": 47,
     "metadata": {},
     "output_type": "execute_result"
    }
   ],
   "source": [
    "my_cat.mybreed"
   ]
  },
  {
   "cell_type": "code",
   "execution_count": 48,
   "id": "7a72ab92",
   "metadata": {},
   "outputs": [],
   "source": [
    "class Dog():\n",
    "    def __init__(self,breed,name,spots):\n",
    "        #Attributes\n",
    "        #We take in the arguement\n",
    "        #Assign it using self.attribute_name\n",
    "        self.breed = breed\n",
    "        self.name = name\n",
    "        \n",
    "        #Except boolean True or False \n",
    "        self.spots = spots\n",
    "        "
   ]
  },
  {
   "cell_type": "code",
   "execution_count": 49,
   "id": "1c56b041",
   "metadata": {},
   "outputs": [],
   "source": [
    "my_dog = Dog(breed='Lab', name='Sammy', spots='False')"
   ]
  },
  {
   "cell_type": "code",
   "execution_count": 50,
   "id": "fa16f374",
   "metadata": {},
   "outputs": [
    {
     "data": {
      "text/plain": [
       "__main__.Dog"
      ]
     },
     "execution_count": 50,
     "metadata": {},
     "output_type": "execute_result"
    }
   ],
   "source": [
    "type(my_dog)"
   ]
  },
  {
   "cell_type": "code",
   "execution_count": 55,
   "id": "96ca0167",
   "metadata": {},
   "outputs": [
    {
     "data": {
      "text/plain": [
       "'False'"
      ]
     },
     "execution_count": 55,
     "metadata": {},
     "output_type": "execute_result"
    }
   ],
   "source": [
    "my_dog.spots"
   ]
  },
  {
   "cell_type": "code",
   "execution_count": 12,
   "id": "1aa931e1",
   "metadata": {},
   "outputs": [],
   "source": [
    "class Dog():\n",
    "    #class OBJECT ATTRIBUTE \n",
    "    #SAME FOR ANY INSTANCE OF A CLASS\n",
    "    species = 'mammal'\n",
    "    \n",
    "    def __init__(self,breed,name,spots):\n",
    "        #ATTRIBUTES\n",
    "        #We take in thr argument\n",
    "        #Assign it using self.attribute_name\n",
    "        self.breed = breed\n",
    "        self.name = name\n",
    "        \n",
    "        #Expect a boolean True/False\n",
    "        self.spots = spots\n",
    "        "
   ]
  },
  {
   "cell_type": "code",
   "execution_count": 13,
   "id": "503a6c01",
   "metadata": {},
   "outputs": [],
   "source": [
    "my_dog = Dog(breed = 'German Shepherd', name='Doggie', spots=False)"
   ]
  },
  {
   "cell_type": "code",
   "execution_count": 14,
   "id": "d5c3544f",
   "metadata": {},
   "outputs": [
    {
     "data": {
      "text/plain": [
       "__main__.Dog"
      ]
     },
     "execution_count": 14,
     "metadata": {},
     "output_type": "execute_result"
    }
   ],
   "source": [
    "type(my_dog)"
   ]
  },
  {
   "cell_type": "code",
   "execution_count": 15,
   "id": "65b2e640",
   "metadata": {},
   "outputs": [
    {
     "data": {
      "text/plain": [
       "'German Shepherd'"
      ]
     },
     "execution_count": 15,
     "metadata": {},
     "output_type": "execute_result"
    }
   ],
   "source": [
    "my_dog.breed"
   ]
  },
  {
   "cell_type": "code",
   "execution_count": 16,
   "id": "910b2614",
   "metadata": {},
   "outputs": [
    {
     "data": {
      "text/plain": [
       "'mammal'"
      ]
     },
     "execution_count": 16,
     "metadata": {},
     "output_type": "execute_result"
    }
   ],
   "source": [
    "my_dog.species"
   ]
  },
  {
   "cell_type": "code",
   "execution_count": 17,
   "id": "97dfb47c",
   "metadata": {},
   "outputs": [],
   "source": [
    "class Dog():\n",
    "    #class OBJECT ATTRIBUTE \n",
    "    #SAME FOR ANY INSTANCE OF A CLASS\n",
    "    species = 'mammal'\n",
    "    \n",
    "    def __init__(self,breed,name,spots):\n",
    "        #ATTRIBUTES\n",
    "        #We take in thr argument\n",
    "        #Assign it using self.attribute_name\n",
    "        self.breed = breed\n",
    "        self.name = name\n",
    "        \n",
    "        #Expect a boolean True/False\n",
    "        self.spots = spots\n",
    "    \n",
    "    #OPERATIONS/Actions -->Methods\n",
    "    def bark(self):\n",
    "        print('WOOF!')"
   ]
  },
  {
   "cell_type": "code",
   "execution_count": 18,
   "id": "7ee1f5eb",
   "metadata": {},
   "outputs": [],
   "source": [
    "German_shepherd = Dog(breed='German Sherpherd', name='Skippy', spots=False)"
   ]
  },
  {
   "cell_type": "code",
   "execution_count": 19,
   "id": "75d12168",
   "metadata": {},
   "outputs": [
    {
     "name": "stdout",
     "output_type": "stream",
     "text": [
      "WOOF!\n"
     ]
    }
   ],
   "source": [
    "German_shepherd.bark()"
   ]
  },
  {
   "cell_type": "code",
   "execution_count": 20,
   "id": "0fd74608",
   "metadata": {},
   "outputs": [
    {
     "data": {
      "text/plain": [
       "'mammal'"
      ]
     },
     "execution_count": 20,
     "metadata": {},
     "output_type": "execute_result"
    }
   ],
   "source": [
    "German_shepherd.species"
   ]
  },
  {
   "cell_type": "code",
   "execution_count": 21,
   "id": "508305da",
   "metadata": {},
   "outputs": [
    {
     "data": {
      "text/plain": [
       "'German Sherpherd'"
      ]
     },
     "execution_count": 21,
     "metadata": {},
     "output_type": "execute_result"
    }
   ],
   "source": [
    "German_shepherd.breed"
   ]
  },
  {
   "cell_type": "code",
   "execution_count": 22,
   "id": "716fd397",
   "metadata": {},
   "outputs": [
    {
     "data": {
      "text/plain": [
       "'Skippy'"
      ]
     },
     "execution_count": 22,
     "metadata": {},
     "output_type": "execute_result"
    }
   ],
   "source": [
    "German_shepherd.name"
   ]
  },
  {
   "cell_type": "code",
   "execution_count": 23,
   "id": "48c1a211",
   "metadata": {},
   "outputs": [
    {
     "name": "stdout",
     "output_type": "stream",
     "text": [
      "WOOF!\n"
     ]
    }
   ],
   "source": [
    "German_shepherd.bark()"
   ]
  },
  {
   "cell_type": "code",
   "execution_count": 24,
   "id": "71e8e2fa",
   "metadata": {},
   "outputs": [
    {
     "data": {
      "text/plain": [
       "<bound method Dog.bark of <__main__.Dog object at 0x00000233BDB435B0>>"
      ]
     },
     "execution_count": 24,
     "metadata": {},
     "output_type": "execute_result"
    }
   ],
   "source": [
    "German_shepherd.bark"
   ]
  },
  {
   "cell_type": "code",
   "execution_count": 25,
   "id": "834211a3",
   "metadata": {},
   "outputs": [
    {
     "name": "stdout",
     "output_type": "stream",
     "text": [
      "WOOF!\n"
     ]
    }
   ],
   "source": [
    "German_shepherd.bark()"
   ]
  },
  {
   "cell_type": "code",
   "execution_count": 30,
   "id": "3f851789",
   "metadata": {},
   "outputs": [],
   "source": [
    "class Dog():\n",
    "    #class OBJECT ATTRIBUTE \n",
    "    #SAME FOR ANY INSTANCE OF A CLASS\n",
    "    species = 'mammal'\n",
    "    \n",
    "    def __init__(self,breed,name):\n",
    "        #ATTRIBUTES\n",
    "        #We take in thr argument\n",
    "        #Assign it using self.attribute_name\n",
    "        self.breed = breed\n",
    "        self.name = name\n",
    "    \n",
    "    #OPERATIONS/Actions -->Methods\n",
    "    def bark(self,number):\n",
    "        print('WOOF! My name is {} and the number is {}'.format(self.name,number))"
   ]
  },
  {
   "cell_type": "code",
   "execution_count": 31,
   "id": "ae9c891a",
   "metadata": {},
   "outputs": [],
   "source": [
    "dog = Dog(breed='Bull Dog', name='Gaddafi')"
   ]
  },
  {
   "cell_type": "code",
   "execution_count": 33,
   "id": "1cd1a14b",
   "metadata": {},
   "outputs": [
    {
     "name": "stdout",
     "output_type": "stream",
     "text": [
      "WOOF! My name is Gaddafi and the number is 10\n"
     ]
    }
   ],
   "source": [
    "dog.bark(10)"
   ]
  },
  {
   "cell_type": "code",
   "execution_count": 36,
   "id": "3d1103fc",
   "metadata": {},
   "outputs": [],
   "source": [
    "class Circle():\n",
    "    #CLASS OBJECT ATTRIBUTE\n",
    "    pi = 3.14\n",
    "    \n",
    "    def __init__(self,radius=1):\n",
    "        self.radius = radius\n",
    "    #METHOD\n",
    "    def get_circumference(self):\n",
    "        return self.radius * self.pi*2\n",
    "    "
   ]
  },
  {
   "cell_type": "code",
   "execution_count": 40,
   "id": "dbc60880",
   "metadata": {},
   "outputs": [],
   "source": [
    "my_circle = Circle(7)"
   ]
  },
  {
   "cell_type": "code",
   "execution_count": 41,
   "id": "1eaed6f9",
   "metadata": {},
   "outputs": [
    {
     "data": {
      "text/plain": [
       "3.14"
      ]
     },
     "execution_count": 41,
     "metadata": {},
     "output_type": "execute_result"
    }
   ],
   "source": [
    "my_circle.pi"
   ]
  },
  {
   "cell_type": "code",
   "execution_count": 42,
   "id": "2efd9ccf",
   "metadata": {},
   "outputs": [
    {
     "data": {
      "text/plain": [
       "43.96"
      ]
     },
     "execution_count": 42,
     "metadata": {},
     "output_type": "execute_result"
    }
   ],
   "source": [
    "my_circle.get_circumference()"
   ]
  },
  {
   "cell_type": "code",
   "execution_count": 43,
   "id": "5d9e2fdf",
   "metadata": {},
   "outputs": [],
   "source": [
    "my_circle = Circle(30)"
   ]
  },
  {
   "cell_type": "code",
   "execution_count": 44,
   "id": "50542bdd",
   "metadata": {},
   "outputs": [
    {
     "data": {
      "text/plain": [
       "188.4"
      ]
     },
     "execution_count": 44,
     "metadata": {},
     "output_type": "execute_result"
    }
   ],
   "source": [
    "my_circle.get_circumference()"
   ]
  },
  {
   "cell_type": "code",
   "execution_count": 1,
   "id": "40c4e620",
   "metadata": {},
   "outputs": [],
   "source": [
    "#Inheritance and Polymorphism\n",
    "class Animal():\n",
    "    def __init__(self):\n",
    "        print(\"ANIMAL\")"
   ]
  },
  {
   "cell_type": "code",
   "execution_count": 3,
   "id": "b63f140e",
   "metadata": {},
   "outputs": [
    {
     "name": "stdout",
     "output_type": "stream",
     "text": [
      "ANIMAL\n"
     ]
    }
   ],
   "source": [
    "myanimal = Animal()"
   ]
  },
  {
   "cell_type": "code",
   "execution_count": 4,
   "id": "c644b112",
   "metadata": {},
   "outputs": [],
   "source": [
    "#Example2\n",
    "class Animal():\n",
    "    def __init__(self):\n",
    "        print('ANIMAL CREATED')\n",
    "    \n",
    "    def who_am_i(self):\n",
    "        print('I am an animal')\n",
    "    \n",
    "    def eat(self):\n",
    "        print('I am eating')"
   ]
  },
  {
   "cell_type": "code",
   "execution_count": 12,
   "id": "a2b7e399",
   "metadata": {},
   "outputs": [
    {
     "name": "stdout",
     "output_type": "stream",
     "text": [
      "ANIMAL CREATED\n"
     ]
    }
   ],
   "source": [
    "my_animal = Animal()"
   ]
  },
  {
   "cell_type": "code",
   "execution_count": 13,
   "id": "88c55a71",
   "metadata": {},
   "outputs": [
    {
     "name": "stdout",
     "output_type": "stream",
     "text": [
      "I am an animal\n"
     ]
    }
   ],
   "source": [
    "my_animal.who_am_i()"
   ]
  },
  {
   "cell_type": "code",
   "execution_count": 14,
   "id": "61b8a6ec",
   "metadata": {},
   "outputs": [
    {
     "name": "stdout",
     "output_type": "stream",
     "text": [
      "I am eating\n"
     ]
    }
   ],
   "source": [
    "my_animal.eat()"
   ]
  },
  {
   "cell_type": "code",
   "execution_count": 17,
   "id": "2892c78a",
   "metadata": {},
   "outputs": [],
   "source": [
    "class Dog(Animal):\n",
    "    def __init__(self):\n",
    "        Animal.__init__(self)\n",
    "        print('Dog created')"
   ]
  },
  {
   "cell_type": "code",
   "execution_count": 18,
   "id": "cfb03e14",
   "metadata": {},
   "outputs": [
    {
     "name": "stdout",
     "output_type": "stream",
     "text": [
      "ANIMAL CREATED\n",
      "Dog created\n"
     ]
    }
   ],
   "source": [
    "my_dog = Dog()"
   ]
  },
  {
   "cell_type": "code",
   "execution_count": 21,
   "id": "8989b789",
   "metadata": {},
   "outputs": [],
   "source": [
    "class Cat(Animal):\n",
    "    def __init__(self):\n",
    "        Animal.__init__(self)\n",
    "        print('Cat created')"
   ]
  },
  {
   "cell_type": "code",
   "execution_count": 22,
   "id": "17716f52",
   "metadata": {},
   "outputs": [
    {
     "name": "stdout",
     "output_type": "stream",
     "text": [
      "ANIMAL CREATED\n",
      "Cat created\n"
     ]
    }
   ],
   "source": [
    "my_cat = Cat()"
   ]
  },
  {
   "cell_type": "code",
   "execution_count": 32,
   "id": "b2f79530",
   "metadata": {},
   "outputs": [],
   "source": [
    "class Dog(Animal):\n",
    "    def __init__(self):\n",
    "        Animal.__init__(self)\n",
    "        print('Dog created')\n",
    "    def who_am_i(self):\n",
    "        print(\"I am a dog!\")"
   ]
  },
  {
   "cell_type": "code",
   "execution_count": 33,
   "id": "54816ab8",
   "metadata": {},
   "outputs": [
    {
     "name": "stdout",
     "output_type": "stream",
     "text": [
      "ANIMAL CREATED\n",
      "Dog created\n"
     ]
    }
   ],
   "source": [
    "my_dog = Dog()"
   ]
  },
  {
   "cell_type": "code",
   "execution_count": 34,
   "id": "d38e66f2",
   "metadata": {},
   "outputs": [
    {
     "name": "stdout",
     "output_type": "stream",
     "text": [
      "I am a dog!\n"
     ]
    }
   ],
   "source": [
    "my_dog.who_am_i()"
   ]
  },
  {
   "cell_type": "code",
   "execution_count": 37,
   "id": "da67cda2",
   "metadata": {},
   "outputs": [],
   "source": [
    "class Cat(Animal):\n",
    "    def __init__(self):\n",
    "        Animal.__init__(self)\n",
    "        print('Cat created')\n",
    "    def who_am_i(self):\n",
    "        print('I am a cat!')"
   ]
  },
  {
   "cell_type": "code",
   "execution_count": 38,
   "id": "30e03006",
   "metadata": {},
   "outputs": [],
   "source": [
    "class Elephant(Animal):\n",
    "    def __init__(self):\n",
    "        print('Elephat created')\n",
    "    def who_am_i(self):\n",
    "        print('I am an elephant')"
   ]
  },
  {
   "cell_type": "code",
   "execution_count": 39,
   "id": "ea95a84e",
   "metadata": {},
   "outputs": [
    {
     "name": "stdout",
     "output_type": "stream",
     "text": [
      "Elephat created\n"
     ]
    }
   ],
   "source": [
    "elephant = Elephant()"
   ]
  },
  {
   "cell_type": "code",
   "execution_count": 40,
   "id": "3f2202bb",
   "metadata": {},
   "outputs": [
    {
     "name": "stdout",
     "output_type": "stream",
     "text": [
      "I am an elephant\n"
     ]
    }
   ],
   "source": [
    "elephant.who_am_i()"
   ]
  },
  {
   "cell_type": "code",
   "execution_count": 43,
   "id": "3dedf83e",
   "metadata": {},
   "outputs": [],
   "source": [
    "class Plant():\n",
    "    def __init__(self):\n",
    "        print('I am a Plant')\n",
    "    def color(self):\n",
    "        pass\n",
    "        "
   ]
  },
  {
   "cell_type": "code",
   "execution_count": 50,
   "id": "b0a13a82",
   "metadata": {},
   "outputs": [],
   "source": [
    "class GreenPlant(Plant):\n",
    "    def __init__(self):\n",
    "        print('I am a green plant')\n",
    "        Plant.__init__(self)\n",
    "    def color(self):\n",
    "        print('Color is green')"
   ]
  },
  {
   "cell_type": "code",
   "execution_count": null,
   "id": "5a66f29c",
   "metadata": {},
   "outputs": [],
   "source": []
  },
  {
   "cell_type": "code",
   "execution_count": null,
   "id": "d8d8cac4",
   "metadata": {},
   "outputs": [],
   "source": []
  },
  {
   "cell_type": "code",
   "execution_count": 47,
   "id": "66f9fefe",
   "metadata": {},
   "outputs": [],
   "source": [
    "class NoneGreenPlant(Plant):\n",
    "    def __init__(self):\n",
    "        print('I am a None Green Plant')\n",
    "        Plant.__init__(self)\n",
    "    def color(self):\n",
    "        print('I am a NONE green plant')\n",
    "        "
   ]
  },
  {
   "cell_type": "code",
   "execution_count": 48,
   "id": "d3ffd7d3",
   "metadata": {},
   "outputs": [
    {
     "name": "stdout",
     "output_type": "stream",
     "text": [
      "I am a None Green Plant\n",
      "I am a Plant\n"
     ]
    }
   ],
   "source": [
    "my_none_greenplant = NoneGreenPlant()"
   ]
  },
  {
   "cell_type": "code",
   "execution_count": 49,
   "id": "fe940d88",
   "metadata": {},
   "outputs": [
    {
     "name": "stdout",
     "output_type": "stream",
     "text": [
      "I am a NONE green plant\n"
     ]
    }
   ],
   "source": [
    "my_none_greenplant.color()"
   ]
  },
  {
   "cell_type": "code",
   "execution_count": null,
   "id": "e9fec6c3",
   "metadata": {},
   "outputs": [],
   "source": []
  },
  {
   "cell_type": "code",
   "execution_count": null,
   "id": "d7301e15",
   "metadata": {},
   "outputs": [],
   "source": []
  }
 ],
 "metadata": {
  "kernelspec": {
   "display_name": "Python 3",
   "language": "python",
   "name": "python3"
  },
  "language_info": {
   "codemirror_mode": {
    "name": "ipython",
    "version": 3
   },
   "file_extension": ".py",
   "mimetype": "text/x-python",
   "name": "python",
   "nbconvert_exporter": "python",
   "pygments_lexer": "ipython3",
   "version": "3.8.8"
  }
 },
 "nbformat": 4,
 "nbformat_minor": 5
}
